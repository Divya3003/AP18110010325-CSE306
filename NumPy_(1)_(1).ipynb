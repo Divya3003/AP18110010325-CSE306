{
  "nbformat": 4,
  "nbformat_minor": 0,
  "metadata": {
    "kernelspec": {
      "display_name": "Python 3 (system-wide)",
      "language": "python",
      "metadata": {
        "cocalc": {
          "description": "Python 3 programming language",
          "priority": 100,
          "url": "https://www.python.org/"
        }
      },
      "name": "python3"
    },
    "language_info": {
      "codemirror_mode": {
        "name": "ipython",
        "version": 3
      },
      "file_extension": ".py",
      "mimetype": "text/x-python",
      "name": "python",
      "nbconvert_exporter": "python",
      "pygments_lexer": "ipython3",
      "version": "3.8.2"
    },
    "colab": {
      "name": "NumPy (1) (1).ipynb",
      "provenance": [],
      "collapsed_sections": [],
      "include_colab_link": true
    }
  },
  "cells": [
    {
      "cell_type": "markdown",
      "metadata": {
        "id": "view-in-github",
        "colab_type": "text"
      },
      "source": [
        "<a href=\"https://colab.research.google.com/github/Divya3003/AP18110010325-CSE306/blob/master/NumPy_(1)_(1).ipynb\" target=\"_parent\"><img src=\"https://colab.research.google.com/assets/colab-badge.svg\" alt=\"Open In Colab\"/></a>"
      ]
    },
    {
      "cell_type": "markdown",
      "metadata": {
        "collapsed": false,
        "id": "nI7MuZvyblSP",
        "colab_type": "text"
      },
      "source": [
        "NumPy Assignment\n",
        "P. Divya Kalyani\n",
        "AP18110010325\n",
        "CSE-E   "
      ]
    },
    {
      "cell_type": "code",
      "metadata": {
        "id": "OsyX1rwfcTS2",
        "colab_type": "code",
        "colab": {
          "base_uri": "https://localhost:8080/",
          "height": 187
        },
        "outputId": "0bcfdafd-4634-4397-b879-f334486cf81c"
      },
      "source": [
        "import numpy as np\n",
        "# Create a rank 1 array\n",
        "a = np.array([0, 1, 2])\n",
        "print(type(a))\n",
        "# this will print the dimension of the array\n",
        "print(a.shape)\n",
        "print(a[0])\n",
        "print(a[1])\n",
        "print(a[2])\n",
        "# Change an element of the array\n",
        "a[0] = 5\n",
        "print(a)\n",
        "# Create a rank 2 array\n",
        "b = np.array([[0,1,2],[3,4,5]])\n",
        "print(b.shape)\n",
        "print(b)\n",
        "print(b[0, 0], b[0, 1], b[1, 0])"
      ],
      "execution_count": 1,
      "outputs": [
        {
          "output_type": "stream",
          "text": [
            "<class 'numpy.ndarray'>\n",
            "(3,)\n",
            "0\n",
            "1\n",
            "2\n",
            "[5 1 2]\n",
            "(2, 3)\n",
            "[[0 1 2]\n",
            " [3 4 5]]\n",
            "0 1 3\n"
          ],
          "name": "stdout"
        }
      ]
    },
    {
      "cell_type": "code",
      "metadata": {
        "id": "CfLcja2Gc-7E",
        "colab_type": "code",
        "colab": {
          "base_uri": "https://localhost:8080/",
          "height": 374
        },
        "outputId": "3fd579d5-8b24-4776-fd6d-ad6732b653f1"
      },
      "source": [
        "# Create a 3x3 array of all zeros\n",
        "a = np.zeros((3,3))\n",
        "print(a)\n",
        "# Create a 2x2 array of all ones\n",
        "b = np.ones((2,2))\n",
        "print(b)\n",
        "# Create a 3x3 constant array\n",
        "\n",
        "c = np.full((3,3), 7)\n",
        "print(c)\n",
        "# Create a 3x3 array filled with random values\n",
        "d = np.random.random((3,3))\n",
        "print(d)\n",
        "# Create a 3x3 identity matrix\n",
        "e = np.eye(3)\n",
        "print(e)\n",
        "# convert list to array\n",
        "f = np.array([2, 3, 1, 0])\n",
        "print(f)\n",
        "# arange() will create arrays with regularly incrementing values\n",
        "g = np.arange(20)\n",
        "print(g)\n",
        "# note mix of tuple and lists\n",
        "h = np.array([[0, 1,2.0],[0,0,0],(1+1j,3.,2.)])\n",
        "print(h)\n",
        "# create an array of range with float data type\n",
        "i = np.arange(1, 8, dtype=np.float)\n",
        "print(i)\n",
        "# linspace() will create arrays with a specified number of items which are\n",
        "# spaced equally between the specified beginning and end values j= np.linspace(start, stop, num)\n",
        "j = np.linspace(2, 4, 5)\n",
        "print(j)"
      ],
      "execution_count": 2,
      "outputs": [
        {
          "output_type": "stream",
          "text": [
            "[[0. 0. 0.]\n",
            " [0. 0. 0.]\n",
            " [0. 0. 0.]]\n",
            "[[1. 1.]\n",
            " [1. 1.]]\n",
            "[[7 7 7]\n",
            " [7 7 7]\n",
            " [7 7 7]]\n",
            "[[0.28340964 0.92477684 0.76327417]\n",
            " [0.38718044 0.42502078 0.35181229]\n",
            " [0.02397658 0.20556818 0.30084718]]\n",
            "[[1. 0. 0.]\n",
            " [0. 1. 0.]\n",
            " [0. 0. 1.]]\n",
            "[2 3 1 0]\n",
            "[ 0  1  2  3  4  5  6  7  8  9 10 11 12 13 14 15 16 17 18 19]\n",
            "[[0.+0.j 1.+0.j 2.+0.j]\n",
            " [0.+0.j 0.+0.j 0.+0.j]\n",
            " [1.+1.j 3.+0.j 2.+0.j]]\n",
            "[1. 2. 3. 4. 5. 6. 7.]\n",
            "[2.  2.5 3.  3.5 4. ]\n"
          ],
          "name": "stdout"
        }
      ]
    },
    {
      "cell_type": "code",
      "metadata": {
        "id": "k6tIRjfidSKf",
        "colab_type": "code",
        "colab": {
          "base_uri": "https://localhost:8080/",
          "height": 34
        },
        "outputId": "f6060b23-3715-4c2f-85b2-6c23ac2f29dd"
      },
      "source": [
        "# Let numpy choose the datatype\n",
        "x = np.array([0, 1])\n",
        "y = np.array([2.0, 3.0])\n",
        "# Force a particular datatype\n",
        "z = np.array([5, 6], dtype=np.int64)\n",
        "print (x.dtype, y.dtype, z.dtype)"
      ],
      "execution_count": 4,
      "outputs": [
        {
          "output_type": "stream",
          "text": [
            "int64 float64 int64\n"
          ],
          "name": "stdout"
        }
      ]
    },
    {
      "cell_type": "code",
      "metadata": {
        "id": "w4YYH1GCdkDl",
        "colab_type": "code",
        "colab": {
          "base_uri": "https://localhost:8080/",
          "height": 170
        },
        "outputId": "8a1be4ad-b626-4ac5-c454-e433d7a622ac"
      },
      "source": [
        "import numpy as np\n",
        "# An exemplar array\n",
        "arr = np.array([[-1, 2, 0, 4],\n",
        "[4, -0.5, 6, 0],\n",
        "[2.6, 0, 7, 8],\n",
        "[3, -7, 4, 2.0]])\n",
        "# Slicing array\n",
        "temp = arr[:2, ::2]\n",
        "print (\"Array with first 2 rows and alternate columns(0 and 2):\\n\", temp)\n",
        "# Integer array indexing example\n",
        "temp = arr[[0, 1, 2, 3], [3, 2, 1, 0]]\n",
        "print (\"\\nElements at indices (0, 3), (1, 2), (2, 1),(3, 0):\\n\", temp)\n",
        "# boolean array indexing example\n",
        "cond = arr > 0 # cond is a boolean array\n",
        "temp = arr[cond]\n",
        "print (\"\\nElements greater than 0:\\n\", temp)"
      ],
      "execution_count": 5,
      "outputs": [
        {
          "output_type": "stream",
          "text": [
            "Array with first 2 rows and alternate columns(0 and 2):\n",
            " [[-1.  0.]\n",
            " [ 4.  6.]]\n",
            "\n",
            "Elements at indices (0, 3), (1, 2), (2, 1),(3, 0):\n",
            " [4. 6. 0. 3.]\n",
            "\n",
            "Elements greater than 0:\n",
            " [2.  4.  4.  6.  2.6 7.  8.  3.  4.  2. ]\n"
          ],
          "name": "stdout"
        }
      ]
    },
    {
      "cell_type": "code",
      "metadata": {
        "id": "BZFs1u-GdulO",
        "colab_type": "code",
        "colab": {
          "base_uri": "https://localhost:8080/",
          "height": 255
        },
        "outputId": "d0c82caf-20f1-41e8-f624-52101c7b8240"
      },
      "source": [
        "import numpy as np\n",
        "a = np.array([1, 2, 5, 3])\n",
        "# add 1 to every element\n",
        "print (\"Adding 1 to every element:\", a+1)\n",
        "# subtract 3 from each element\n",
        "print (\"Subtracting 3 from each element:\", a-3)\n",
        "# multiply each element by 10\n",
        "print (\"Multiplying each element by 10:\", a*10)\n",
        "# square each element\n",
        "print (\"Squaring each element:\", a**2)\n",
        "# modify existing array\n",
        "a *= 2\n",
        "print (\"Doubled each element of original array:\", a)\n",
        "# transpose of array\n",
        "a = np.array([[1, 2, 3], [3, 4, 5], [9, 6, 0]])\n",
        "print (\"\\nOriginal array:\\n\", a)\n",
        "print (\"Transpose of array:\\n\", a.T)"
      ],
      "execution_count": 6,
      "outputs": [
        {
          "output_type": "stream",
          "text": [
            "Adding 1 to every element: [2 3 6 4]\n",
            "Subtracting 3 from each element: [-2 -1  2  0]\n",
            "Multiplying each element by 10: [10 20 50 30]\n",
            "Squaring each element: [ 1  4 25  9]\n",
            "Doubled each element of original array: [ 2  4 10  6]\n",
            "\n",
            "Original array:\n",
            " [[1 2 3]\n",
            " [3 4 5]\n",
            " [9 6 0]]\n",
            "Transpose of array:\n",
            " [[1 3 9]\n",
            " [2 4 6]\n",
            " [3 5 0]]\n"
          ],
          "name": "stdout"
        }
      ]
    },
    {
      "cell_type": "code",
      "metadata": {
        "id": "h9h51EAtd1Ug",
        "colab_type": "code",
        "colab": {
          "base_uri": "https://localhost:8080/",
          "height": 153
        },
        "outputId": "fd2bbc64-deeb-4a8e-8ddc-0e44468ea16f"
      },
      "source": [
        "import numpy as np\n",
        "arr = np.array([[1, 5, 6],\n",
        "[4, 7, 2],\n",
        "[3, 1, 9]])\n",
        "# maximum element of array\n",
        "print (\"Largest element is:\", arr.max())\n",
        "print (\"Row-wise maximum elements:\",arr.max(axis = 1))\n",
        "# minimum element of array\n",
        "print (\"Column-wise minimum elements:\",arr.min(axis = 0))\n",
        "# sum of array elements\n",
        "print (\"Sum of all array elements:\",arr.sum())\n",
        "# cumulative sum along each row\n",
        "print (\"Cumulative sum along each row:\\n\",arr.cumsum(axis = 1))"
      ],
      "execution_count": 7,
      "outputs": [
        {
          "output_type": "stream",
          "text": [
            "Largest element is: 9\n",
            "Row-wise maximum elements: [6 7 9]\n",
            "Column-wise minimum elements: [1 1 2]\n",
            "Sum of all array elements: 38\n",
            "Cumulative sum along each row:\n",
            " [[ 1  6 12]\n",
            " [ 4 11 13]\n",
            " [ 3  4 13]]\n"
          ],
          "name": "stdout"
        }
      ]
    },
    {
      "cell_type": "code",
      "metadata": {
        "id": "mYYP1F-7eCEy",
        "colab_type": "code",
        "colab": {
          "base_uri": "https://localhost:8080/",
          "height": 170
        },
        "outputId": "c91d8cd9-8252-4c03-c373-07d97324be87"
      },
      "source": [
        "import numpy as np\n",
        "a = np.array([[1, 2],\n",
        "[3, 4]])\n",
        "b = np.array([[4, 3],\n",
        "[2, 1]])\n",
        "# add arrays\n",
        "print (\"Array sum:\\n\", a + b)\n",
        "# multiply arrays (elementwise multiplication)\n",
        "print (\"Array multiplication:\\n\", a*b)\n",
        "# matrix multiplication\n",
        "print (\"Matrix multiplication:\\n\", a.dot(b))"
      ],
      "execution_count": 8,
      "outputs": [
        {
          "output_type": "stream",
          "text": [
            "Array sum:\n",
            " [[5 5]\n",
            " [5 5]]\n",
            "Array multiplication:\n",
            " [[4 6]\n",
            " [6 4]]\n",
            "Matrix multiplication:\n",
            " [[ 8  5]\n",
            " [20 13]]\n"
          ],
          "name": "stdout"
        }
      ]
    },
    {
      "cell_type": "code",
      "metadata": {
        "id": "jvNYsWzZeE28",
        "colab_type": "code",
        "colab": {
          "base_uri": "https://localhost:8080/",
          "height": 68
        },
        "outputId": "67656209-0671-4ff8-ee93-a92e6248c37e"
      },
      "source": [
        "import numpy as np\n",
        "# create an array of sine values\n",
        "a = np.array([0, np.pi/2, np.pi])\n",
        "print (\"Sine values of array elements:\", np.sin(a))\n",
        "# exponential values\n",
        "a = np.array([0, 1, 2, 3])\n",
        "print (\"Exponent of array elements:\", np.exp(a))\n",
        "# square root of array values\n",
        "print (\"Square root of array elements:\", np.sqrt(a))"
      ],
      "execution_count": 9,
      "outputs": [
        {
          "output_type": "stream",
          "text": [
            "Sine values of array elements: [0.0000000e+00 1.0000000e+00 1.2246468e-16]\n",
            "Exponent of array elements: [ 1.          2.71828183  7.3890561  20.08553692]\n",
            "Square root of array elements: [0.         1.         1.41421356 1.73205081]\n"
          ],
          "name": "stdout"
        }
      ]
    },
    {
      "cell_type": "code",
      "metadata": {
        "id": "-uPg89lgeNL2",
        "colab_type": "code",
        "colab": {
          "base_uri": "https://localhost:8080/",
          "height": 85
        },
        "outputId": "3562d63c-5327-4d33-b8b2-e3396ec9bc95"
      },
      "source": [
        "import numpy as np\n",
        "arr = np.array([[-1, 2, 0, 4],\n",
        "[4, -0.5, 6, 0],\n",
        "[2.6, 0, 7, 8],\n",
        "[3, -7, 4, 2.0]])\n",
        "inverse = np.linalg.inv(arr)\n",
        "inverse"
      ],
      "execution_count": 10,
      "outputs": [
        {
          "output_type": "execute_result",
          "data": {
            "text/plain": [
              "array([[ 4.05707196,  1.98511166, -2.28287841,  1.01736973],\n",
              "       [ 0.50620347,  0.30272953, -0.24813896, -0.01985112],\n",
              "       [-2.66253102, -1.13151365,  1.50124069, -0.67990074],\n",
              "       [ 1.01116625,  0.34491315, -0.44665012,  0.26426799]])"
            ]
          },
          "metadata": {
            "tags": []
          },
          "execution_count": 10
        }
      ]
    },
    {
      "cell_type": "code",
      "metadata": {
        "trusted": true,
        "id": "fvnQ9LiMblSV",
        "colab_type": "code",
        "colab": {
          "base_uri": "https://localhost:8080/",
          "height": 51
        },
        "outputId": "cd7654b6-ff26-426e-85fa-e26a74e31186"
      },
      "source": [
        "import numpy as np\n",
        "#Dot product of two arrays\n",
        "a = np.array([[1, 2],[3, 4]]) #matrix\n",
        "v = np.array([4, 3]) #vector\n",
        "print('dot product: \\n',np.dot(a, v))"
      ],
      "execution_count": 11,
      "outputs": [
        {
          "output_type": "stream",
          "text": [
            "dot product: \n",
            " [10 24]\n"
          ],
          "name": "stdout"
        }
      ]
    },
    {
      "cell_type": "code",
      "metadata": {
        "trusted": true,
        "id": "77q6Js50blSl",
        "colab_type": "code",
        "colab": {
          "base_uri": "https://localhost:8080/",
          "height": 51
        },
        "outputId": "d3d975de-f545-4d94-913a-4e84f85722a3"
      },
      "source": [
        "'''Compute the dot product of two or more arrays in a single function\n",
        "call, while automatically selecting the fastest evaluation order.'''\n",
        "b = np.array([[4, 3],[2, 1]])\n",
        "c = np.array([[5, 6],[7, 8]])\n",
        "print(np.linalg.multi_dot([a,b,c]))"
      ],
      "execution_count": 12,
      "outputs": [
        {
          "output_type": "stream",
          "text": [
            "[[ 75  88]\n",
            " [191 224]]\n"
          ],
          "name": "stdout"
        }
      ]
    },
    {
      "cell_type": "code",
      "metadata": {
        "trusted": true,
        "id": "dccdIotXblSx",
        "colab_type": "code",
        "colab": {
          "base_uri": "https://localhost:8080/",
          "height": 34
        },
        "outputId": "d6e088f5-6c48-447b-d74c-86c20b1fc8d2"
      },
      "source": [
        "#Return the dot product of two vectors.\n",
        "v2=[1,2]\n",
        "print(np.vdot(v, v2))"
      ],
      "execution_count": 13,
      "outputs": [
        {
          "output_type": "stream",
          "text": [
            "10\n"
          ],
          "name": "stdout"
        }
      ]
    },
    {
      "cell_type": "code",
      "metadata": {
        "trusted": true,
        "id": "eDUuwQCyblS9",
        "colab_type": "code",
        "colab": {
          "base_uri": "https://localhost:8080/",
          "height": 34
        },
        "outputId": "293e07a0-bca3-4fe0-d412-8d7c2992f69c"
      },
      "source": [
        "#Inner product of two arrays.\n",
        "print(np.inner(v,v2))"
      ],
      "execution_count": 14,
      "outputs": [
        {
          "output_type": "stream",
          "text": [
            "10\n"
          ],
          "name": "stdout"
        }
      ]
    },
    {
      "cell_type": "code",
      "metadata": {
        "trusted": true,
        "id": "M0z14XKZblTI",
        "colab_type": "code",
        "colab": {
          "base_uri": "https://localhost:8080/",
          "height": 51
        },
        "outputId": "de616d2b-12a7-45de-8c4c-cafc2387baaf"
      },
      "source": [
        "#Compute the outer product of two vectors.\n",
        "print(np.outer(v,v2))"
      ],
      "execution_count": 15,
      "outputs": [
        {
          "output_type": "stream",
          "text": [
            "[[4 8]\n",
            " [3 6]]\n"
          ],
          "name": "stdout"
        }
      ]
    },
    {
      "cell_type": "code",
      "metadata": {
        "trusted": true,
        "id": "a4aIAM3oblTT",
        "colab_type": "code",
        "colab": {
          "base_uri": "https://localhost:8080/",
          "height": 51
        },
        "outputId": "80f718fb-e1b4-465a-9bb4-50c022c57819"
      },
      "source": [
        "#Matrix product of two arrays.\n",
        "print(np.matmul(a, b))"
      ],
      "execution_count": 16,
      "outputs": [
        {
          "output_type": "stream",
          "text": [
            "[[ 8  5]\n",
            " [20 13]]\n"
          ],
          "name": "stdout"
        }
      ]
    },
    {
      "cell_type": "code",
      "metadata": {
        "trusted": true,
        "id": "QKlLKsWjblTf",
        "colab_type": "code",
        "colab": {
          "base_uri": "https://localhost:8080/",
          "height": 34
        },
        "outputId": "5e580659-dc53-4000-881d-e688ac48f35c"
      },
      "source": [
        "#Compute tensor dot product along specified axes for arrays >= 1-D\n",
        "print(np.tensordot(a, b))"
      ],
      "execution_count": 17,
      "outputs": [
        {
          "output_type": "stream",
          "text": [
            "20\n"
          ],
          "name": "stdout"
        }
      ]
    },
    {
      "cell_type": "code",
      "metadata": {
        "trusted": true,
        "id": "KPsu2VY-blTs",
        "colab_type": "code",
        "colab": {
          "base_uri": "https://localhost:8080/",
          "height": 51
        },
        "outputId": "f5e90f61-7b98-4ac4-c576-5f53f9333a3e"
      },
      "source": [
        "#Evaluates the Einstein summation convention on the operands\n",
        "print(np.einsum('ij,jh',a,b))"
      ],
      "execution_count": 18,
      "outputs": [
        {
          "output_type": "stream",
          "text": [
            "[[ 8 20]\n",
            " [ 5 13]]\n"
          ],
          "name": "stdout"
        }
      ]
    },
    {
      "cell_type": "code",
      "metadata": {
        "trusted": true,
        "id": "q1WxEcAYblT3",
        "colab_type": "code",
        "colab": {
          "base_uri": "https://localhost:8080/",
          "height": 54
        },
        "outputId": "3797d27f-a03d-46f7-e33c-9b08eea54ce0"
      },
      "source": [
        "'''Evaluates the lowest cost contraction order for an einsum\n",
        "expression by considering the creation of intermediate arrays.'''\n",
        "print(np.einsum_path('ij,jh',a,b))"
      ],
      "execution_count": 19,
      "outputs": [
        {
          "output_type": "stream",
          "text": [
            "(['einsum_path', (0, 1)], '  Complete contraction:  ij,jh->hi\\n         Naive scaling:  3\\n     Optimized scaling:  3\\n      Naive FLOP count:  1.600e+01\\n  Optimized FLOP count:  1.700e+01\\n   Theoretical speedup:  0.941\\n  Largest intermediate:  4.000e+00 elements\\n--------------------------------------------------------------------------\\nscaling                  current                                remaining\\n--------------------------------------------------------------------------\\n   3                   jh,ij->hi                                   hi->hi')\n"
          ],
          "name": "stdout"
        }
      ]
    },
    {
      "cell_type": "code",
      "metadata": {
        "trusted": true,
        "id": "slwiyBOIblUB",
        "colab_type": "code",
        "colab": {
          "base_uri": "https://localhost:8080/",
          "height": 51
        },
        "outputId": "9ca60048-2bb3-49e5-dbc9-085cefa9d03b"
      },
      "source": [
        "#Raise a square matrix to the (integer) power n.\n",
        "print(np.linalg.matrix_power(a, 10))"
      ],
      "execution_count": 20,
      "outputs": [
        {
          "output_type": "stream",
          "text": [
            "[[ 4783807  6972050]\n",
            " [10458075 15241882]]\n"
          ],
          "name": "stdout"
        }
      ]
    },
    {
      "cell_type": "code",
      "metadata": {
        "trusted": true,
        "id": "3OLtXcS_blUL",
        "colab_type": "code",
        "colab": {
          "base_uri": "https://localhost:8080/",
          "height": 51
        },
        "outputId": "74942207-854c-411d-ee40-39c96d08d358"
      },
      "source": [
        "#Matrix Eigen Values\n",
        "#Compute the eigenvalues and right eigenvectors of a square array.\n",
        "print(np.linalg.eig(a))"
      ],
      "execution_count": 21,
      "outputs": [
        {
          "output_type": "stream",
          "text": [
            "(array([-0.37228132,  5.37228132]), array([[-0.82456484, -0.41597356],\n",
            "       [ 0.56576746, -0.90937671]]))\n"
          ],
          "name": "stdout"
        }
      ]
    },
    {
      "cell_type": "code",
      "metadata": {
        "trusted": true,
        "id": "31dSzoW7blUV",
        "colab_type": "code",
        "colab": {
          "base_uri": "https://localhost:8080/",
          "height": 51
        },
        "outputId": "b57a49a3-0dec-4855-95c6-1a29d40d4a1e"
      },
      "source": [
        "'''Return the eigenvalues and eigenvectors of a complex Hermitian (conjugate symmetric) or a\n",
        "real symmetric matrix.'''\n",
        "print(np.linalg.eigh(a))"
      ],
      "execution_count": 22,
      "outputs": [
        {
          "output_type": "stream",
          "text": [
            "(array([-0.85410197,  5.85410197]), array([[-0.85065081,  0.52573111],\n",
            "       [ 0.52573111,  0.85065081]]))\n"
          ],
          "name": "stdout"
        }
      ]
    },
    {
      "cell_type": "code",
      "metadata": {
        "trusted": true,
        "id": "IfqGdEGablUi",
        "colab_type": "code",
        "colab": {
          "base_uri": "https://localhost:8080/",
          "height": 34
        },
        "outputId": "7b1ef46f-b044-4b16-d74c-0b01006dcc9d"
      },
      "source": [
        "#Compute the eigenvalues of a general matrix.\n",
        "print(np.linalg.eigvals(a))"
      ],
      "execution_count": 23,
      "outputs": [
        {
          "output_type": "stream",
          "text": [
            "[-0.37228132  5.37228132]\n"
          ],
          "name": "stdout"
        }
      ]
    }
  ]
}